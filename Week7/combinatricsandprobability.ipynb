{
 "cells": [
  {
   "cell_type": "code",
   "execution_count": 1,
   "id": "db6ad6ef",
   "metadata": {},
   "outputs": [],
   "source": [
    "import math"
   ]
  },
  {
   "cell_type": "markdown",
   "id": "fe5047ff",
   "metadata": {},
   "source": [
    "Combinations and Permutations \n",
    "Factorial\n",
    "n!/n-k!"
   ]
  },
  {
   "cell_type": "code",
   "execution_count": 2,
   "id": "2d583944",
   "metadata": {},
   "outputs": [
    {
     "name": "stdout",
     "output_type": "stream",
     "text": [
      "336.0\n"
     ]
    }
   ],
   "source": [
    "n = 8\n",
    "k = 3\n",
    "\n",
    "permutation1 = (8 * 7 * 6 * 5 * 4 * 3 * 2 * 1)/(5 * 4 * 3 * 2 * 1)\n",
    "print(permutation1)"
   ]
  },
  {
   "cell_type": "code",
   "execution_count": 4,
   "id": "91f36976",
   "metadata": {},
   "outputs": [],
   "source": [
    "def permutation(n, k):\n",
    "    p = math.factorial(n)/ math.factorial(n-k)\n",
    "    return p"
   ]
  },
  {
   "cell_type": "code",
   "execution_count": null,
   "id": "468bcfc5",
   "metadata": {},
   "outputs": [
    {
     "data": {
      "text/plain": [
       "336.0"
      ]
     },
     "execution_count": 5,
     "metadata": {},
     "output_type": "execute_result"
    }
   ],
   "source": [
    "permutation(8, 3)"
   ]
  },
  {
   "cell_type": "code",
   "execution_count": 9,
   "id": "a3951e1d",
   "metadata": {},
   "outputs": [],
   "source": [
    "def combination(n, k):\n",
    "    c = math.factorial(n)/(math.factorial(n-k)*math.factorial(k))\n",
    "    return c"
   ]
  },
  {
   "cell_type": "code",
   "execution_count": 10,
   "id": "5eaf627b",
   "metadata": {},
   "outputs": [
    {
     "data": {
      "text/plain": [
       "56.0"
      ]
     },
     "execution_count": 10,
     "metadata": {},
     "output_type": "execute_result"
    }
   ],
   "source": [
    "combination(8,3)"
   ]
  },
  {
   "cell_type": "code",
   "execution_count": 11,
   "id": "75d99064",
   "metadata": {},
   "outputs": [
    {
     "data": {
      "text/plain": [
       "252.0"
      ]
     },
     "execution_count": 11,
     "metadata": {},
     "output_type": "execute_result"
    }
   ],
   "source": [
    "combination(10,5)"
   ]
  },
  {
   "cell_type": "code",
   "execution_count": null,
   "id": "029173dc",
   "metadata": {},
   "outputs": [],
   "source": []
  }
 ],
 "metadata": {
  "kernelspec": {
   "display_name": "LuxAcademyVenv",
   "language": "python",
   "name": "python3"
  },
  "language_info": {
   "codemirror_mode": {
    "name": "ipython",
    "version": 3
   },
   "file_extension": ".py",
   "mimetype": "text/x-python",
   "name": "python",
   "nbconvert_exporter": "python",
   "pygments_lexer": "ipython3",
   "version": "3.13.2"
  }
 },
 "nbformat": 4,
 "nbformat_minor": 5
}
