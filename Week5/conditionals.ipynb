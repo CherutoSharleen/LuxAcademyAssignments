{
 "cells": [
  {
   "cell_type": "markdown",
   "id": "d84d9cc2",
   "metadata": {},
   "source": [
    "# Conditional Statements"
   ]
  },
  {
   "cell_type": "code",
   "execution_count": 1,
   "id": "2b782cd0",
   "metadata": {},
   "outputs": [
    {
     "name": "stdout",
     "output_type": "stream",
     "text": [
      "Mtu Mzima!! You are 20 years old.\n"
     ]
    }
   ],
   "source": [
    "miaka = int(input(\"Weka Miaka Yako:\"))\n",
    "if miaka >= 18:\n",
    "    print(f\"Mtu Mzima!! You are {miaka} years old.\")\n",
    "else:\n",
    "    print(f\"You are still Childrens!!\")"
   ]
  },
  {
   "cell_type": "code",
   "execution_count": 8,
   "id": "5b9fe1c0",
   "metadata": {},
   "outputs": [
    {
     "name": "stdout",
     "output_type": "stream",
     "text": [
      "Adult\n"
     ]
    }
   ],
   "source": [
    "# user input,  check if teenager, adult\n",
    "miaka = int(input(\"Weka Miaka Yako:\"))\n",
    "if miaka > 0 and miaka < 13:\n",
    "    print(\"Child\")\n",
    "elif miaka >= 13 and miaka <=19:\n",
    "    print(\"Teenager\")\n",
    "elif miaka >= 20 and miaka <=35:\n",
    "    print(\"Yudhe\")\n",
    "else:\n",
    "    print(\"Adult\")"
   ]
  },
  {
   "cell_type": "markdown",
   "id": "1351a7f9",
   "metadata": {},
   "source": [
    "# Loops\n",
    "- For loop every element in a given data structure\n",
    "- While Loop - if condition is met \n",
    "- List is []"
   ]
  },
  {
   "cell_type": "code",
   "execution_count": null,
   "id": "b1cfb005",
   "metadata": {},
   "outputs": [],
   "source": [
    "fruits = [\"tufaha\", \"parachichi\", \"ndizi\", \"chungwa\", ]\n"
   ]
  },
  {
   "cell_type": "code",
   "execution_count": null,
   "id": "4c8d8fbf",
   "metadata": {},
   "outputs": [],
   "source": [
    "# Break, Continue and Pass"
   ]
  },
  {
   "cell_type": "code",
   "execution_count": null,
   "id": "b53d2853",
   "metadata": {},
   "outputs": [],
   "source": [
    "# SETS"
   ]
  },
  {
   "cell_type": "code",
   "execution_count": null,
   "id": "0e43ddbf",
   "metadata": {},
   "outputs": [],
   "source": [
    "#TUPLES"
   ]
  }
 ],
 "metadata": {
  "kernelspec": {
   "display_name": "LuxAcademyVenv",
   "language": "python",
   "name": "python3"
  },
  "language_info": {
   "codemirror_mode": {
    "name": "ipython",
    "version": 3
   },
   "file_extension": ".py",
   "mimetype": "text/x-python",
   "name": "python",
   "nbconvert_exporter": "python",
   "pygments_lexer": "ipython3",
   "version": "3.13.2"
  }
 },
 "nbformat": 4,
 "nbformat_minor": 5
}
