{
 "cells": [
  {
   "cell_type": "markdown",
   "id": "ba47d901",
   "metadata": {},
   "source": [
    "# start the venv\n",
    " ./LuxAcademyVenv/Scripts/Activate.ps1\n",
    "\n",
    " # if powershell access policy\n",
    "Set-ExecutionPolicy -Scope Process -ExecutionPolicy Bypass\n",
    "\n",
    " # Turn off Extensions or other things\n",
    " Ctrl+Shift+P"
   ]
  },
  {
   "cell_type": "code",
   "execution_count": null,
   "id": "1bd1be12",
   "metadata": {},
   "outputs": [],
   "source": [
    "def printName(naame)"
   ]
  }
 ],
 "metadata": {
  "kernelspec": {
   "display_name": "LuxAcademyVenv",
   "language": "python",
   "name": "python3"
  },
  "language_info": {
   "name": "python",
   "version": "3.13.2"
  }
 },
 "nbformat": 4,
 "nbformat_minor": 5
}
