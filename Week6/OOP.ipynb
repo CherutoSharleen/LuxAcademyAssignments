{
 "cells": [
  {
   "cell_type": "code",
   "execution_count": null,
   "id": "f637b199",
   "metadata": {},
   "outputs": [],
   "source": [
    "class Person:\n",
    "    def __init__(self, name, age, gender, nationality):\n",
    "        self.name = name\n",
    "        self.age = age\n",
    "        self.gender = gender\n",
    "        self.nationality = nationality\n",
    "\n",
    "    def speak(self):\n",
    "        print(f\"My name is {self.name}, I am {self.age} years old and I am a {self.gender} from {self.nationality}\")\n",
    "        "
   ]
  },
  {
   "cell_type": "markdown",
   "id": "857447b7",
   "metadata": {},
   "source": [
    "## CLASSES\n",
    "- Initialize Class (constructor method - init - for defining attributes)\n",
    "- Define Variables and tie them to the class\n",
    "- Every method has self defined that ties it to the class"
   ]
  },
  {
   "cell_type": "code",
   "execution_count": null,
   "id": "a846716b",
   "metadata": {},
   "outputs": [],
   "source": [
    "# make a class\n",
    "# initialize the class\n",
    "# initialize the variables and tie them to class\n",
    "# every method of the class has to have self\n",
    "\n",
    "class Rectangle:\n",
    "    def __init__(self, length, width):\n",
    "        self.length = length\n",
    "        self.width = width\n",
    "\n",
    "    def area(self):\n",
    "        area = self.length * self.width\n",
    "        return(f\"The area of rectangle with L = {self.length} and W = {self.width} is {area}\")\n",
    "    \n",
    "    def perimeter(self):\n",
    "        perimeter = 2 * (self.length + self.width)\n",
    "        return(f\"The permieter of rectangle with L = {self.length} and W = {self.width} is {perimeter}\")\n",
    "\n"
   ]
  },
  {
   "cell_type": "code",
   "execution_count": 4,
   "id": "ea140f5d",
   "metadata": {},
   "outputs": [
    {
     "name": "stdout",
     "output_type": "stream",
     "text": [
      "The area of rectangle with L = 5 and W = 2 is 10\n",
      "The permieter of rectangle with L = 5 and W = 2 is 14\n"
     ]
    }
   ],
   "source": [
    "rectangle1 = Rectangle(5, 2)\n",
    "print(rectangle1.area())\n",
    "print(rectangle1.perimeter())"
   ]
  },
  {
   "cell_type": "code",
   "execution_count": null,
   "id": "b9fd65ed",
   "metadata": {},
   "outputs": [],
   "source": [
    "class Circle:\n",
    "    # constructor method\n",
    "    def __init__(self, diameter):\n",
    "        self.diameter = diameter\n",
    "        self.PI = 22/7\n",
    "\n",
    "    def area(self):\n",
    "        area = self.PI * (self.diameter/2) ** 2\n",
    "        return(f\"The perimeter of the circle with radius {self.diameter/2} is {area}\")\n",
    "\n",
    "    def perimeter(self):\n",
    "        perimeter = self.PI * self.diameter\n",
    "        return(f\"The perimeter of the circle with diameter {self.diameter} is {perimeter}\")\n"
   ]
  },
  {
   "cell_type": "code",
   "execution_count": 17,
   "id": "b424ad97",
   "metadata": {},
   "outputs": [
    {
     "name": "stdout",
     "output_type": "stream",
     "text": [
      "The perimeter of the circle with radius 7.0 is 154.0\n",
      "The perimeter of the circle with diameter 14 is 44.0\n"
     ]
    }
   ],
   "source": [
    "circle1 = Circle(14)\n",
    "print(circle1.area())\n",
    "print(circle1.perimeter())"
   ]
  },
  {
   "cell_type": "markdown",
   "id": "06d497c3",
   "metadata": {},
   "source": [
    "#### <b> <u> INHERITANCE </u></b>\n",
    "- class inheritsance is when a class can inherit from another class \n",
    "- for code reuses\n",
    "- Parent Class - define attributes\n",
    "- Child/Sub Class - uses the attributes\n",
    "  _class Dog(Animal)_: (make sub class then initialize the parent class)"
   ]
  },
  {
   "cell_type": "code",
   "execution_count": 22,
   "id": "2c192955",
   "metadata": {},
   "outputs": [],
   "source": [
    "# write class Car with attributes brand and year \n",
    "# add method called display that prints an f-string\n",
    "class Car:\n",
    "    def __init__ (self, brand, year):\n",
    "        self.brand = brand\n",
    "        self.year = year\n",
    "\n",
    "    def display(self):\n",
    "        return(f\"My first car is a {self.brand} and it was made in {self.year}\")"
   ]
  },
  {
   "cell_type": "code",
   "execution_count": 25,
   "id": "cab26d6c",
   "metadata": {},
   "outputs": [
    {
     "name": "stdout",
     "output_type": "stream",
     "text": [
      "My first car is a Toyota Note and it was made in 2012\n"
     ]
    }
   ],
   "source": [
    "myFirstCar = Car(\"Toyota Note\", 2012)\n",
    "print(myFirstCar.display())\n"
   ]
  }
 ],
 "metadata": {
  "kernelspec": {
   "display_name": "LuxAcademyVenv",
   "language": "python",
   "name": "python3"
  },
  "language_info": {
   "codemirror_mode": {
    "name": "ipython",
    "version": 3
   },
   "file_extension": ".py",
   "mimetype": "text/x-python",
   "name": "python",
   "nbconvert_exporter": "python",
   "pygments_lexer": "ipython3",
   "version": "3.13.2"
  }
 },
 "nbformat": 4,
 "nbformat_minor": 5
}
