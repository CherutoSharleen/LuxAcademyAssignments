{
 "cells": [
  {
   "cell_type": "markdown",
   "id": "fee67d49",
   "metadata": {},
   "source": [
    "### File Input-Output\n",
    "- <b>with statement</b> - used for file handling to avoid forgetting to close the file"
   ]
  },
  {
   "cell_type": "code",
   "execution_count": 1,
   "id": "b3f19742",
   "metadata": {},
   "outputs": [],
   "source": [
    "with open(\"firstFile.txt\", \"w\") as myFirstFile:\n",
    "    myFirstFile.write(\"Hello World\")"
   ]
  },
  {
   "cell_type": "code",
   "execution_count": 2,
   "id": "473e7c4e",
   "metadata": {},
   "outputs": [
    {
     "name": "stdout",
     "output_type": "stream",
     "text": [
      "Hello World\n"
     ]
    }
   ],
   "source": [
    "with open(\"firstFile.txt\", \"r\") as readMyFirstFile:\n",
    "    fileContent = readMyFirstFile.read()\n",
    "    print(fileContent)"
   ]
  },
  {
   "cell_type": "code",
   "execution_count": null,
   "id": "dfc21a88",
   "metadata": {},
   "outputs": [],
   "source": [
    "# read from excel jumia csv file\n",
    "with open(\"excel_jumia.csv\", \"r\") as ExcelJumia:\n",
    "    jumiaData = ExcelJumia.read()\n",
    "    print(jumiaData)"
   ]
  },
  {
   "cell_type": "code",
   "execution_count": 4,
   "id": "50396f76",
   "metadata": {},
   "outputs": [],
   "source": [
    "# write from excel jumia.csv to tsv\n",
    "with open(\"excel_jumia.csv\", \"r\") as csvJumia:\n",
    "    jumiaCSVData = csvJumia.read()\n",
    "    with open(\"excel_jumia.tsv\", \"w\") as tsvJumia:\n",
    "        jumiaTSVData = tsvJumia.write(jumiaCSVData)"
   ]
  },
  {
   "cell_type": "code",
   "execution_count": 5,
   "id": "159fa56a",
   "metadata": {},
   "outputs": [],
   "source": [
    "import pandas as pd\n"
   ]
  },
  {
   "cell_type": "markdown",
   "id": "4703e5d8",
   "metadata": {},
   "source": [
    "open csv as data frame in pandas\n",
    "pd.read_csv()"
   ]
  },
  {
   "cell_type": "code",
   "execution_count": 7,
   "id": "37e51041",
   "metadata": {},
   "outputs": [
    {
     "data": {
      "text/html": [
       "<div>\n",
       "<style scoped>\n",
       "    .dataframe tbody tr th:only-of-type {\n",
       "        vertical-align: middle;\n",
       "    }\n",
       "\n",
       "    .dataframe tbody tr th {\n",
       "        vertical-align: top;\n",
       "    }\n",
       "\n",
       "    .dataframe thead th {\n",
       "        text-align: right;\n",
       "    }\n",
       "</style>\n",
       "<table border=\"1\" class=\"dataframe\">\n",
       "  <thead>\n",
       "    <tr style=\"text-align: right;\">\n",
       "      <th></th>\n",
       "      <th>Product</th>\n",
       "      <th>Current price</th>\n",
       "      <th>old price</th>\n",
       "      <th>Discount</th>\n",
       "      <th>Review</th>\n",
       "      <th>Ratings</th>\n",
       "    </tr>\n",
       "  </thead>\n",
       "  <tbody>\n",
       "    <tr>\n",
       "      <th>0</th>\n",
       "      <td>115  Piece Set Of Multifunctional Precision Sc...</td>\n",
       "      <td>KSh 950</td>\n",
       "      <td>KSh 1,525</td>\n",
       "      <td>38%</td>\n",
       "      <td>-2.0</td>\n",
       "      <td>4.5 out of 5</td>\n",
       "    </tr>\n",
       "    <tr>\n",
       "      <th>1</th>\n",
       "      <td>Metal Decorative Hooks Key Hangers Entryway Wa...</td>\n",
       "      <td>KSh 527</td>\n",
       "      <td>KSh 999</td>\n",
       "      <td>47%</td>\n",
       "      <td>-14.0</td>\n",
       "      <td>4.1 out of 5</td>\n",
       "    </tr>\n",
       "    <tr>\n",
       "      <th>2</th>\n",
       "      <td>Portable Mini Cordless Car Vacuum Cleaner - Blue</td>\n",
       "      <td>KSh 2,199</td>\n",
       "      <td>KSh 2,923</td>\n",
       "      <td>25%</td>\n",
       "      <td>-24.0</td>\n",
       "      <td>4.6 out of 5</td>\n",
       "    </tr>\n",
       "    <tr>\n",
       "      <th>3</th>\n",
       "      <td>Weighing Scale Digital Bathroom Body Fat Scale...</td>\n",
       "      <td>KSh 1,580</td>\n",
       "      <td>KSh 2,499</td>\n",
       "      <td>37%</td>\n",
       "      <td>-7.0</td>\n",
       "      <td>4.7 out of 5</td>\n",
       "    </tr>\n",
       "    <tr>\n",
       "      <th>4</th>\n",
       "      <td>Portable Home Small Air Humidifier 3-Speed Fan...</td>\n",
       "      <td>KSh 1,740</td>\n",
       "      <td>KSh 2,356</td>\n",
       "      <td>26%</td>\n",
       "      <td>-5.0</td>\n",
       "      <td>4.8 out of 5</td>\n",
       "    </tr>\n",
       "  </tbody>\n",
       "</table>\n",
       "</div>"
      ],
      "text/plain": [
       "                                             Product Current price  old price  \\\n",
       "0  115  Piece Set Of Multifunctional Precision Sc...       KSh 950  KSh 1,525   \n",
       "1  Metal Decorative Hooks Key Hangers Entryway Wa...       KSh 527    KSh 999   \n",
       "2   Portable Mini Cordless Car Vacuum Cleaner - Blue     KSh 2,199  KSh 2,923   \n",
       "3  Weighing Scale Digital Bathroom Body Fat Scale...     KSh 1,580  KSh 2,499   \n",
       "4  Portable Home Small Air Humidifier 3-Speed Fan...     KSh 1,740  KSh 2,356   \n",
       "\n",
       "  Discount  Review       Ratings  \n",
       "0      38%    -2.0  4.5 out of 5  \n",
       "1      47%   -14.0  4.1 out of 5  \n",
       "2      25%   -24.0  4.6 out of 5  \n",
       "3      37%    -7.0  4.7 out of 5  \n",
       "4      26%    -5.0  4.8 out of 5  "
      ]
     },
     "execution_count": 7,
     "metadata": {},
     "output_type": "execute_result"
    }
   ],
   "source": [
    "jumiaDF = pd.read_csv(\"excel_jumia.csv\")\n",
    "jumiaDF.head()"
   ]
  },
  {
   "cell_type": "markdown",
   "id": "5dba9a96",
   "metadata": {},
   "source": [
    "#### Null Values\n",
    "- <b>df.isnull().sum()</b>\n",
    "- <b>df.fillna()</b> - fill missing values in columns \n",
    "- drop columns \n",
    "    - exclude the columns then place in the list (<b>df.drop(columns = ['name','name'], axis=1)</b>)"
   ]
  },
  {
   "cell_type": "code",
   "execution_count": 8,
   "id": "a28b1a4a",
   "metadata": {},
   "outputs": [
    {
     "data": {
      "text/plain": [
       "Product           0\n",
       "Current price     0\n",
       "old price         0\n",
       "Discount          0\n",
       "Review           58\n",
       "Ratings          58\n",
       "dtype: int64"
      ]
     },
     "execution_count": 8,
     "metadata": {},
     "output_type": "execute_result"
    }
   ],
   "source": [
    "# Missing Values\n",
    "jumiaDF.isnull().sum()"
   ]
  },
  {
   "cell_type": "code",
   "execution_count": 15,
   "id": "92076724",
   "metadata": {},
   "outputs": [
    {
     "data": {
      "text/html": [
       "<div>\n",
       "<style scoped>\n",
       "    .dataframe tbody tr th:only-of-type {\n",
       "        vertical-align: middle;\n",
       "    }\n",
       "\n",
       "    .dataframe tbody tr th {\n",
       "        vertical-align: top;\n",
       "    }\n",
       "\n",
       "    .dataframe thead th {\n",
       "        text-align: right;\n",
       "    }\n",
       "</style>\n",
       "<table border=\"1\" class=\"dataframe\">\n",
       "  <thead>\n",
       "    <tr style=\"text-align: right;\">\n",
       "      <th></th>\n",
       "      <th>Product</th>\n",
       "      <th>Current price</th>\n",
       "      <th>old price</th>\n",
       "      <th>Discount</th>\n",
       "    </tr>\n",
       "  </thead>\n",
       "  <tbody>\n",
       "    <tr>\n",
       "      <th>0</th>\n",
       "      <td>115  Piece Set Of Multifunctional Precision Sc...</td>\n",
       "      <td>KSh 950</td>\n",
       "      <td>KSh 1,525</td>\n",
       "      <td>38%</td>\n",
       "    </tr>\n",
       "    <tr>\n",
       "      <th>1</th>\n",
       "      <td>Metal Decorative Hooks Key Hangers Entryway Wa...</td>\n",
       "      <td>KSh 527</td>\n",
       "      <td>KSh 999</td>\n",
       "      <td>47%</td>\n",
       "    </tr>\n",
       "    <tr>\n",
       "      <th>2</th>\n",
       "      <td>Portable Mini Cordless Car Vacuum Cleaner - Blue</td>\n",
       "      <td>KSh 2,199</td>\n",
       "      <td>KSh 2,923</td>\n",
       "      <td>25%</td>\n",
       "    </tr>\n",
       "    <tr>\n",
       "      <th>3</th>\n",
       "      <td>Weighing Scale Digital Bathroom Body Fat Scale...</td>\n",
       "      <td>KSh 1,580</td>\n",
       "      <td>KSh 2,499</td>\n",
       "      <td>37%</td>\n",
       "    </tr>\n",
       "    <tr>\n",
       "      <th>4</th>\n",
       "      <td>Portable Home Small Air Humidifier 3-Speed Fan...</td>\n",
       "      <td>KSh 1,740</td>\n",
       "      <td>KSh 2,356</td>\n",
       "      <td>26%</td>\n",
       "    </tr>\n",
       "  </tbody>\n",
       "</table>\n",
       "</div>"
      ],
      "text/plain": [
       "                                             Product Current price  old price  \\\n",
       "0  115  Piece Set Of Multifunctional Precision Sc...       KSh 950  KSh 1,525   \n",
       "1  Metal Decorative Hooks Key Hangers Entryway Wa...       KSh 527    KSh 999   \n",
       "2   Portable Mini Cordless Car Vacuum Cleaner - Blue     KSh 2,199  KSh 2,923   \n",
       "3  Weighing Scale Digital Bathroom Body Fat Scale...     KSh 1,580  KSh 2,499   \n",
       "4  Portable Home Small Air Humidifier 3-Speed Fan...     KSh 1,740  KSh 2,356   \n",
       "\n",
       "  Discount  \n",
       "0      38%  \n",
       "1      47%  \n",
       "2      25%  \n",
       "3      37%  \n",
       "4      26%  "
      ]
     },
     "execution_count": 15,
     "metadata": {},
     "output_type": "execute_result"
    }
   ],
   "source": [
    "# drop rating and review columns \n",
    "jumiaDF = jumiaDF.drop(columns=['Review','Ratings'], axis=1)\n",
    "jumiaDF.head()"
   ]
  },
  {
   "cell_type": "code",
   "execution_count": 16,
   "id": "2ef44a4d",
   "metadata": {},
   "outputs": [
    {
     "data": {
      "text/html": [
       "<div>\n",
       "<style scoped>\n",
       "    .dataframe tbody tr th:only-of-type {\n",
       "        vertical-align: middle;\n",
       "    }\n",
       "\n",
       "    .dataframe tbody tr th {\n",
       "        vertical-align: top;\n",
       "    }\n",
       "\n",
       "    .dataframe thead th {\n",
       "        text-align: right;\n",
       "    }\n",
       "</style>\n",
       "<table border=\"1\" class=\"dataframe\">\n",
       "  <thead>\n",
       "    <tr style=\"text-align: right;\">\n",
       "      <th></th>\n",
       "      <th>Product</th>\n",
       "      <th>Current price</th>\n",
       "      <th>old price</th>\n",
       "      <th>Discount</th>\n",
       "    </tr>\n",
       "  </thead>\n",
       "  <tbody>\n",
       "    <tr>\n",
       "      <th>0</th>\n",
       "      <td>115  Piece Set Of Multifunctional Precision Sc...</td>\n",
       "      <td>KSh 950</td>\n",
       "      <td>KSh 1,525</td>\n",
       "      <td>38%</td>\n",
       "    </tr>\n",
       "    <tr>\n",
       "      <th>1</th>\n",
       "      <td>Metal Decorative Hooks Key Hangers Entryway Wa...</td>\n",
       "      <td>KSh 527</td>\n",
       "      <td>KSh 999</td>\n",
       "      <td>47%</td>\n",
       "    </tr>\n",
       "    <tr>\n",
       "      <th>2</th>\n",
       "      <td>Portable Mini Cordless Car Vacuum Cleaner - Blue</td>\n",
       "      <td>KSh 2,199</td>\n",
       "      <td>KSh 2,923</td>\n",
       "      <td>25%</td>\n",
       "    </tr>\n",
       "    <tr>\n",
       "      <th>3</th>\n",
       "      <td>Weighing Scale Digital Bathroom Body Fat Scale...</td>\n",
       "      <td>KSh 1,580</td>\n",
       "      <td>KSh 2,499</td>\n",
       "      <td>37%</td>\n",
       "    </tr>\n",
       "    <tr>\n",
       "      <th>4</th>\n",
       "      <td>Portable Home Small Air Humidifier 3-Speed Fan...</td>\n",
       "      <td>KSh 1,740</td>\n",
       "      <td>KSh 2,356</td>\n",
       "      <td>26%</td>\n",
       "    </tr>\n",
       "  </tbody>\n",
       "</table>\n",
       "</div>"
      ],
      "text/plain": [
       "                                             Product Current price  old price  \\\n",
       "0  115  Piece Set Of Multifunctional Precision Sc...       KSh 950  KSh 1,525   \n",
       "1  Metal Decorative Hooks Key Hangers Entryway Wa...       KSh 527    KSh 999   \n",
       "2   Portable Mini Cordless Car Vacuum Cleaner - Blue     KSh 2,199  KSh 2,923   \n",
       "3  Weighing Scale Digital Bathroom Body Fat Scale...     KSh 1,580  KSh 2,499   \n",
       "4  Portable Home Small Air Humidifier 3-Speed Fan...     KSh 1,740  KSh 2,356   \n",
       "\n",
       "  Discount  \n",
       "0      38%  \n",
       "1      47%  \n",
       "2      25%  \n",
       "3      37%  \n",
       "4      26%  "
      ]
     },
     "execution_count": 16,
     "metadata": {},
     "output_type": "execute_result"
    }
   ],
   "source": [
    "jumiaDF.head()"
   ]
  },
  {
   "cell_type": "code",
   "execution_count": null,
   "id": "496dde27",
   "metadata": {},
   "outputs": [],
   "source": []
  }
 ],
 "metadata": {
  "kernelspec": {
   "display_name": "LuxAcademyVenv",
   "language": "python",
   "name": "python3"
  },
  "language_info": {
   "codemirror_mode": {
    "name": "ipython",
    "version": 3
   },
   "file_extension": ".py",
   "mimetype": "text/x-python",
   "name": "python",
   "nbconvert_exporter": "python",
   "pygments_lexer": "ipython3",
   "version": "3.13.2"
  }
 },
 "nbformat": 4,
 "nbformat_minor": 5
}
