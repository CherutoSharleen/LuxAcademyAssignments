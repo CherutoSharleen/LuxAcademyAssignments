{
 "cells": [
  {
   "cell_type": "code",
   "execution_count": 2,
   "id": "7277adc7",
   "metadata": {},
   "outputs": [],
   "source": [
    "import numpy as np"
   ]
  },
  {
   "cell_type": "code",
   "execution_count": 3,
   "id": "3f6b3bb8",
   "metadata": {},
   "outputs": [
    {
     "name": "stdout",
     "output_type": "stream",
     "text": [
      "[1, 2, 3, 4, 5, 6, 7, 8, 9, 10, 10, 9, 8, 7, 6, 5, 4, 3, 2, 1]\n"
     ]
    }
   ],
   "source": [
    "numbers = [1,2,3,4,5,6,7,8,9,10]\n",
    "nums = [10,9,8,7,6,5,4,3,2,1]\n",
    "add1 = numbers + nums\n",
    "print(add1)"
   ]
  },
  {
   "cell_type": "code",
   "execution_count": 4,
   "id": "ee99d4cd",
   "metadata": {},
   "outputs": [
    {
     "data": {
      "text/plain": [
       "array([10,  9,  8,  7,  6,  5,  4,  3,  2,  1])"
      ]
     },
     "execution_count": 4,
     "metadata": {},
     "output_type": "execute_result"
    }
   ],
   "source": [
    "# array function\n",
    "nums_array = np.array(nums)\n",
    "nums_array"
   ]
  },
  {
   "cell_type": "code",
   "execution_count": 5,
   "id": "ed3e100d",
   "metadata": {},
   "outputs": [
    {
     "data": {
      "text/plain": [
       "array([ 1,  2,  3,  4,  5,  6,  7,  8,  9, 10])"
      ]
     },
     "execution_count": 5,
     "metadata": {},
     "output_type": "execute_result"
    }
   ],
   "source": [
    "numbers_array = np.array(numbers)\n",
    "numbers_array"
   ]
  },
  {
   "cell_type": "code",
   "execution_count": 6,
   "id": "29f89b9b",
   "metadata": {},
   "outputs": [
    {
     "data": {
      "text/plain": [
       "array([11, 11, 11, 11, 11, 11, 11, 11, 11, 11])"
      ]
     },
     "execution_count": 6,
     "metadata": {},
     "output_type": "execute_result"
    }
   ],
   "source": [
    "add2 = nums_array+numbers_array\n",
    "add2\n"
   ]
  },
  {
   "cell_type": "markdown",
   "id": "4c3ddc71",
   "metadata": {},
   "source": [
    "# WITH ARRAYS\n",
    "- It adds element wise "
   ]
  },
  {
   "cell_type": "code",
   "execution_count": 7,
   "id": "5cb7954e",
   "metadata": {},
   "outputs": [
    {
     "data": {
      "text/plain": [
       "np.float64(5.5)"
      ]
     },
     "execution_count": 7,
     "metadata": {},
     "output_type": "execute_result"
    }
   ],
   "source": [
    "# mean - with numpy\n",
    "numbers_array.mean()"
   ]
  },
  {
   "cell_type": "code",
   "execution_count": 8,
   "id": "878b2617",
   "metadata": {},
   "outputs": [
    {
     "data": {
      "text/plain": [
       "np.int64(55)"
      ]
     },
     "execution_count": 8,
     "metadata": {},
     "output_type": "execute_result"
    }
   ],
   "source": [
    "numbers_array.sum()"
   ]
  },
  {
   "cell_type": "code",
   "execution_count": null,
   "id": "abc915f4",
   "metadata": {},
   "outputs": [
    {
     "data": {
      "text/plain": [
       "np.float64(2.8722813232690143)"
      ]
     },
     "execution_count": 10,
     "metadata": {},
     "output_type": "execute_result"
    }
   ],
   "source": [
    "# standard deviation\n",
    "numbers_array.std()"
   ]
  },
  {
   "cell_type": "code",
   "execution_count": 11,
   "id": "f0c8bdf0",
   "metadata": {},
   "outputs": [
    {
     "data": {
      "text/plain": [
       "np.float64(8.25)"
      ]
     },
     "execution_count": 11,
     "metadata": {},
     "output_type": "execute_result"
    }
   ],
   "source": [
    "# variance\n",
    "numbers_array.var()"
   ]
  },
  {
   "cell_type": "code",
   "execution_count": null,
   "id": "ad8e768a",
   "metadata": {},
   "outputs": [],
   "source": []
  }
 ],
 "metadata": {
  "kernelspec": {
   "display_name": "LuxAcademyVenv",
   "language": "python",
   "name": "python3"
  },
  "language_info": {
   "codemirror_mode": {
    "name": "ipython",
    "version": 3
   },
   "file_extension": ".py",
   "mimetype": "text/x-python",
   "name": "python",
   "nbconvert_exporter": "python",
   "pygments_lexer": "ipython3",
   "version": "3.13.2"
  }
 },
 "nbformat": 4,
 "nbformat_minor": 5
}
