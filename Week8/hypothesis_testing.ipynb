{
 "cells": [
  {
   "cell_type": "code",
   "execution_count": 2,
   "id": "fa679091",
   "metadata": {},
   "outputs": [],
   "source": [
    "import math\n",
    "from scipy import stats"
   ]
  },
  {
   "cell_type": "markdown",
   "id": "2f20bb71",
   "metadata": {},
   "source": [
    "## Statistical Significance\n"
   ]
  },
  {
   "cell_type": "code",
   "execution_count": null,
   "id": "fed665b3",
   "metadata": {},
   "outputs": [],
   "source": []
  },
  {
   "cell_type": "markdown",
   "id": "5356e5cc",
   "metadata": {},
   "source": [
    "## ONE SAMPLE Z TEST\n",
    "- We want to see if the sample makes part of the general population\n",
    "qq. Is Sample different from population? Is sample statistically difficult to the population"
   ]
  },
  {
   "cell_type": "code",
   "execution_count": 8,
   "id": "9a6b6cc8",
   "metadata": {},
   "outputs": [
    {
     "name": "stdout",
     "output_type": "stream",
     "text": [
      "The z statistic is 1.1858541225631423\n"
     ]
    }
   ],
   "source": [
    "# calculate z tests\n",
    "student_sample_size = 40\n",
    "population_IQ_mean = 100\n",
    "population_IQ_std = 16\n",
    "student_sample_mean = 103\n",
    "\n",
    "# xbar(sample mean) > u(population mean) : 103<100\n",
    "# Alternative hypothesis:  there's a difference in IQ from tutoring\n",
    "# Null Hypothesis: there is no difference in IQ from tutoring\n",
    "\n",
    "# z statistic = xbar - mean/ sigma(pop.std) / sqrt(n)\n",
    "z_statistic = (student_sample_mean - population_IQ_mean) / (population_IQ_std / math.sqrt(student_sample_size))\n",
    "print(f\"The z statistic is\",z_statistic)"
   ]
  },
  {
   "cell_type": "code",
   "execution_count": null,
   "id": "185ce64b",
   "metadata": {},
   "outputs": [],
   "source": []
  }
 ],
 "metadata": {
  "kernelspec": {
   "display_name": "LuxAcademyVenv",
   "language": "python",
   "name": "python3"
  },
  "language_info": {
   "codemirror_mode": {
    "name": "ipython",
    "version": 3
   },
   "file_extension": ".py",
   "mimetype": "text/x-python",
   "name": "python",
   "nbconvert_exporter": "python",
   "pygments_lexer": "ipython3",
   "version": "3.13.2"
  }
 },
 "nbformat": 4,
 "nbformat_minor": 5
}
