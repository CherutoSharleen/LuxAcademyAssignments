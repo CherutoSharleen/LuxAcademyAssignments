{
 "cells": [
  {
   "cell_type": "code",
   "execution_count": 31,
   "id": "fa679091",
   "metadata": {},
   "outputs": [],
   "source": [
    "import math\n",
    "from scipy import stats\n",
    "import numpy as np"
   ]
  },
  {
   "cell_type": "markdown",
   "id": "2f20bb71",
   "metadata": {},
   "source": [
    "## Statistical Significance\n"
   ]
  },
  {
   "cell_type": "code",
   "execution_count": null,
   "id": "fed665b3",
   "metadata": {},
   "outputs": [],
   "source": []
  },
  {
   "cell_type": "markdown",
   "id": "5356e5cc",
   "metadata": {},
   "source": [
    "## ONE SAMPLE Z TEST\n",
    "- We want to see if the sample makes part of the general population\n",
    "qq. Is Sample different from population? Is sample statistically difficult to the population\n",
    "\n",
    "\n",
    "##### Example\n",
    "A data scientist wants to examine if there is an effect on IQ scores when using tutors. To analyze this, she conducts IQ tests on a sample of 40 students and wants to compare her students' IQ to the general population IQ. The way an IQ score is structured, we know that a standardized IQ test has a mean of 100 and a standard deviation of 16. When she tests her group of students, however, she gets an average IQ of 103. Based on this finding, does tutoring make a difference?"
   ]
  },
  {
   "cell_type": "code",
   "execution_count": 16,
   "id": "9a6b6cc8",
   "metadata": {},
   "outputs": [],
   "source": [
    "# calculate z tests\n",
    "student_sample_size = 40\n",
    "population_IQ_mean = 100\n",
    "population_IQ_std = 16\n",
    "student_sample_mean = 103\n",
    "alpha = 0.05\n"
   ]
  },
  {
   "cell_type": "code",
   "execution_count": 15,
   "id": "b9c4f152",
   "metadata": {},
   "outputs": [
    {
     "name": "stdout",
     "output_type": "stream",
     "text": [
      "The z statistic is 1.1858541225631423\n"
     ]
    }
   ],
   "source": [
    "\n",
    "# xbar(sample mean) > u(population mean) : 103<100\n",
    "# Alternative hypothesis:  there's a difference in IQ from tutoring\n",
    "# Null Hypothesis: there is no difference in IQ from tutoring\n",
    "\n",
    "# z statistic = xbar - mean/ sigma(pop.std) / sqrt(n)\n",
    "z_statistic = (student_sample_mean - population_IQ_mean) / (population_IQ_std / math.sqrt(student_sample_size))\n",
    "print(f\"The z statistic is\",z_statistic)"
   ]
  },
  {
   "cell_type": "code",
   "execution_count": null,
   "id": "185ce64b",
   "metadata": {},
   "outputs": [
    {
     "data": {
      "text/plain": [
       "np.float64(0.8821600432854813)"
      ]
     },
     "execution_count": 9,
     "metadata": {},
     "output_type": "execute_result"
    }
   ],
   "source": [
    "iq_ZStatistic_CDF = stats.norm.cdf(z_statistic)\n",
    "print(f\"The IQ CDF is\",iq_ZStatistic_CDF)"
   ]
  },
  {
   "cell_type": "code",
   "execution_count": null,
   "id": "48d5f89d",
   "metadata": {},
   "outputs": [
    {
     "data": {
      "text/plain": [
       "np.float64(0.11783995671451875)"
      ]
     },
     "execution_count": 10,
     "metadata": {},
     "output_type": "execute_result"
    }
   ],
   "source": [
    "# p-value\n",
    "iq_pvalue= 1 - iq_ZStatistic_CDF\n",
    "print(f\"The IQ P Value is\", iq_pvalue)"
   ]
  },
  {
   "cell_type": "code",
   "execution_count": 13,
   "id": "7bdc87ad",
   "metadata": {},
   "outputs": [
    {
     "name": "stdout",
     "output_type": "stream",
     "text": [
      "Fail to Reject Null Hypothesis: Tutoring does not improve student IQ\n"
     ]
    }
   ],
   "source": [
    "# if pvalue < alpha, reject null hypothesis, pvalue > alpha, fail to reject null hypothesis\n",
    "\n",
    "if (iq_pvalue < alpha):\n",
    "    print(\"Reject The Null Hypothesis: Tutoring improves student IQ\")\n",
    "else:\n",
    "    print(\"Fail to Reject Null Hypothesis: Tutoring does not improve student IQ\")"
   ]
  },
  {
   "cell_type": "markdown",
   "id": "ed01c79c",
   "metadata": {},
   "source": [
    "##### Lab\n",
    "A fast-food chain claims that the mean time to order food at their restaurants is 60 seconds, with a standard deviation of 30 seconds. You decide to put this claim to the test and go to one of the restaurants to observe actual waiting times. You take a sample of 36 customers and find that the mean order time was 75 seconds. Does this finding provide enough evidence to contradict the fast food chain's claim of fast service?\n",
    "\n",
    "Follow the 5 steps shown in previous lesson and use α = 0.05."
   ]
  },
  {
   "cell_type": "code",
   "execution_count": 24,
   "id": "9fd898de",
   "metadata": {},
   "outputs": [],
   "source": [
    "fast_food_mean_time = 60\n",
    "fast_food_std_dev = 30\n",
    "customer_sample_size = 36\n",
    "customer_mean_time = 75\n",
    "alpha = 0.05\n",
    "\n",
    "alternative_hyp = \"We are contradicting the claim of fast service in this fast food chain\"\n",
    "null_hyp = \"We agree with the claim of fast service in this fast food chain\""
   ]
  },
  {
   "cell_type": "code",
   "execution_count": 18,
   "id": "552252de",
   "metadata": {},
   "outputs": [
    {
     "data": {
      "text/plain": [
       "3.0"
      ]
     },
     "execution_count": 18,
     "metadata": {},
     "output_type": "execute_result"
    }
   ],
   "source": [
    "# z statistic\n",
    "delivery_time_zstatic = (customer_mean_time - fast_food_mean_time)/(fast_food_std_dev / (math.sqrt(customer_sample_size)))\n",
    "delivery_time_zstatic"
   ]
  },
  {
   "cell_type": "code",
   "execution_count": 19,
   "id": "c011953a",
   "metadata": {},
   "outputs": [
    {
     "data": {
      "text/plain": [
       "np.float64(0.9986501019683699)"
      ]
     },
     "execution_count": 19,
     "metadata": {},
     "output_type": "execute_result"
    }
   ],
   "source": [
    "# cdf\n",
    "delivery_time_cdf = stats.norm.cdf(delivery_time_zstatic)\n",
    "delivery_time_cdf"
   ]
  },
  {
   "cell_type": "code",
   "execution_count": 20,
   "id": "50042b6d",
   "metadata": {},
   "outputs": [
    {
     "data": {
      "text/plain": [
       "np.float64(0.0013498980316301035)"
      ]
     },
     "execution_count": 20,
     "metadata": {},
     "output_type": "execute_result"
    }
   ],
   "source": [
    "delivery_time_pvalue = 1 - delivery_time_cdf\n",
    "delivery_time_pvalue"
   ]
  },
  {
   "cell_type": "code",
   "execution_count": 28,
   "id": "809659d5",
   "metadata": {},
   "outputs": [
    {
     "name": "stdout",
     "output_type": "stream",
     "text": [
      "Based on the current evidence we reject the null hypothesis and conclude, We are contradicting the claim of fast service in this fast food chain\n"
     ]
    }
   ],
   "source": [
    "# pvalue < alpha\n",
    "if delivery_time_pvalue < alpha:\n",
    "    print(f\"Based on the current evidence we reject the null hypothesis and conclude,\", alternative_hyp)\n",
    "else:\n",
    "    print(f\"Based on the current evidence, we fail to reject the null hypothesis and conclude,\", null_hyp)"
   ]
  },
  {
   "cell_type": "markdown",
   "id": "3d0d85a9",
   "metadata": {},
   "source": [
    "\n",
    "#### Exercise 2\n",
    "25 students complete a preparation program for taking the SAT test. Here are the SAT scores from the 25 students who completed the program:\n",
    "\n",
    "434 694 457 534 720 400 484 478 610 641 425 636 454  514 563 370 499 640 501 625 612 471 598 509 531\n",
    "\n",
    "We know that the population average for SAT scores is 500 with a standard deviation of 100.\n",
    "\n",
    "Are our 25 students’ SAT scores significantly higher than the population's mean score?\n",
    "\n",
    "Note that the SAT preparation program claims that it will increase (and not decrease) the SAT score. So, you can conduct a one-directional test. (alpha = .05)."
   ]
  },
  {
   "cell_type": "code",
   "execution_count": 41,
   "id": "35ecc175",
   "metadata": {},
   "outputs": [],
   "source": [
    "sat_score_population_mean = 500\n",
    "sat_score_population_std = 100\n",
    "students_sample_size = 25\n",
    "students_scores = np.array([434, 694, 457, 534, 720, 400, 484, 478, 610, 641, 425, 636, 454, 514, 563, 370, 499, 640, 501, 625, 612, 471, 598, 509, 531])\n",
    "students_scores_mean = np.mean(students_scores) #xbar\n",
    "alpha = 0.05\n",
    "\n",
    "scores_alternative_hyp = \"Students’ SAT scores significantly higher than the population's mean score\"\n",
    "scores_null_hyp = \"Students’ SAT scores ARE NOT significantly higher than the population's mean score\""
   ]
  },
  {
   "cell_type": "code",
   "execution_count": 43,
   "id": "cc2f5d76",
   "metadata": {},
   "outputs": [
    {
     "data": {
      "text/plain": [
       "np.float64(2.2768399153212333)"
      ]
     },
     "execution_count": 43,
     "metadata": {},
     "output_type": "execute_result"
    }
   ],
   "source": [
    "# z statistic\n",
    "students_scores_zstatistic = (students_scores_mean - sat_score_population_mean)/(sat_score_population_std / math.sqrt(student_sample_size))\n",
    "students_scores_zstatistic"
   ]
  },
  {
   "cell_type": "code",
   "execution_count": 36,
   "id": "b36c8aae",
   "metadata": {},
   "outputs": [
    {
     "data": {
      "text/plain": [
       "np.float64(0.9886021065132305)"
      ]
     },
     "execution_count": 36,
     "metadata": {},
     "output_type": "execute_result"
    }
   ],
   "source": [
    "# cdf\n",
    "students_score_cdf = stats.norm.cdf(students_scores_zstatistic)\n",
    "students_score_cdf"
   ]
  },
  {
   "cell_type": "code",
   "execution_count": 37,
   "id": "ed5cc92d",
   "metadata": {},
   "outputs": [
    {
     "data": {
      "text/plain": [
       "np.float64(0.01139789348676945)"
      ]
     },
     "execution_count": 37,
     "metadata": {},
     "output_type": "execute_result"
    }
   ],
   "source": [
    "#pvalue\n",
    "students_score_pvalue = 1 - students_score_cdf\n",
    "students_score_pvalue"
   ]
  },
  {
   "cell_type": "code",
   "execution_count": 39,
   "id": "95d6f701",
   "metadata": {},
   "outputs": [
    {
     "name": "stdout",
     "output_type": "stream",
     "text": [
      "Based on the evidence, we reject the null hypothesis and conclude, Students’ SAT scores significantly higher than the population's mean score\n"
     ]
    }
   ],
   "source": [
    "if (students_score_pvalue < alpha):\n",
    "    print(f\"Based on the evidence, we reject the null hypothesis and conclude,\",scores_alternative_hyp)\n",
    "else:\n",
    "    print(f\"Based on the evidence, we fail to reject the null hypothesis and conclude,\", scores_null_hyp)"
   ]
  },
  {
   "cell_type": "code",
   "execution_count": null,
   "id": "4b8469cc",
   "metadata": {},
   "outputs": [],
   "source": []
  }
 ],
 "metadata": {
  "kernelspec": {
   "display_name": "LuxAcademyVenv",
   "language": "python",
   "name": "python3"
  },
  "language_info": {
   "codemirror_mode": {
    "name": "ipython",
    "version": 3
   },
   "file_extension": ".py",
   "mimetype": "text/x-python",
   "name": "python",
   "nbconvert_exporter": "python",
   "pygments_lexer": "ipython3",
   "version": "3.13.2"
  }
 },
 "nbformat": 4,
 "nbformat_minor": 5
}
